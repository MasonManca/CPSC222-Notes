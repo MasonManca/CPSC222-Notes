{
 "cells": [
  {
   "cell_type": "code",
   "execution_count": 1,
   "id": "5da6b0b3-8dfc-46f8-b030-1277563f9f94",
   "metadata": {},
   "outputs": [],
   "source": [
    "import pandas as pd\n",
    "import numpy as np\n"
   ]
  },
  {
   "cell_type": "markdown",
   "id": "f866a645-6d57-40c9-815d-40a4a78be45c",
   "metadata": {},
   "source": [
    "## Warm-up \n"
   ]
  },
  {
   "cell_type": "code",
   "execution_count": 5,
   "id": "ca94c68b-5b6f-419d-9bfa-78a1008a9035",
   "metadata": {},
   "outputs": [
    {
     "name": "stdout",
     "output_type": "stream",
     "text": [
      "Xbar:  29.0 s: 2.7774602993176543 n:  8 df:  7 t:  -2.0367003088692623\n"
     ]
    }
   ],
   "source": [
    "lst = [30,28,32,26,33,25,28,30]\n",
    "Xbar = np.mean(lst)\n",
    "s = np.std(lst, ddof=1)\n",
    "n = len(lst)\n",
    "df = n-1\n",
    "t = (Xbar - 31)/ (s/np.sqrt(n))\n",
    "\n",
    "print(\"Xbar: \", Xbar, \"s:\", s, \"n: \", n, \"df: \", df, \"t: \", t)\n",
    "\n"
   ]
  },
  {
   "cell_type": "markdown",
   "id": "705d788b-fece-4dbb-b7eb-edcde48a916d",
   "metadata": {},
   "source": []
  },
  {
   "cell_type": "code",
   "execution_count": null,
   "id": "df7dee86-b001-4945-8fc6-2d69dbad6cf1",
   "metadata": {},
   "outputs": [],
   "source": []
  },
  {
   "cell_type": "code",
   "execution_count": null,
   "id": "024de016-099e-42e8-9697-786b2b1a2cb8",
   "metadata": {},
   "outputs": [],
   "source": []
  }
 ],
 "metadata": {
  "kernelspec": {
   "display_name": "Python 3",
   "language": "python",
   "name": "python3"
  },
  "language_info": {
   "codemirror_mode": {
    "name": "ipython",
    "version": 3
   },
   "file_extension": ".py",
   "mimetype": "text/x-python",
   "name": "python",
   "nbconvert_exporter": "python",
   "pygments_lexer": "ipython3",
   "version": "3.8.8"
  }
 },
 "nbformat": 4,
 "nbformat_minor": 5
}
