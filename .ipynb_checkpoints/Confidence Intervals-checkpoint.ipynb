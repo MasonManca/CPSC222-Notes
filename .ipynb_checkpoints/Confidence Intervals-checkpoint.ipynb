{
 "cells": [
  {
   "cell_type": "code",
   "execution_count": 1,
   "id": "af4c3775-0f35-4814-8a90-b0431ab5991b",
   "metadata": {},
   "outputs": [],
   "source": [
    "import pandas as pd\n",
    "import numpy as np"
   ]
  },
  {
   "cell_type": "code",
   "execution_count": 6,
   "id": "c1a38c5d-525c-446a-b5a7-ab271b241974",
   "metadata": {},
   "outputs": [
    {
     "name": "stdout",
     "output_type": "stream",
     "text": [
      "Xbar: 8.983333333333333 s: 1.2904074996494381\n"
     ]
    }
   ],
   "source": [
    "lst = [8.2,9.1,7.7,8.6,6.9,11.2,10.1,9.9,8.9,9.2,7.5,10.5]\n",
    "\n",
    "Xbar = np.mean(lst)\n",
    "\n",
    "s = np.std(lst, ddof = 1)\n",
    "\n",
    "print(\"Xbar:\", Xbar, \"s:\", s) # sample stdv... pass ddof= 1 for numpy std to get sample standard dev\n",
    "\n",
    "# By default ddof calculates the population mean"
   ]
  },
  {
   "cell_type": "code",
   "execution_count": 10,
   "id": "8e3994cc-59de-481f-9de3-4adb126bd1da",
   "metadata": {},
   "outputs": [
    {
     "name": "stdout",
     "output_type": "stream",
     "text": [
      "margin of error:  0.81989133757425\n",
      "(8.163441995759083, 9.803224670907582)\n",
      "We are 95% confident the population mean (number of hours slept each night is in: ) (8.163441995759083, 9.803224670907582)\n"
     ]
    }
   ],
   "source": [
    "t = 2.201\n",
    "n = len(lst)\n",
    "margin_of_error = t * s / np.sqrt(n)\n",
    "print(\"margin of error: \", margin_of_error)\n",
    "\n",
    "conf_interval = (Xbar - margin_of_error, Xbar + margin_of_error)\n",
    "print(conf_interval)\n",
    "print(\"We are 95% confident the population mean (number of hours slept each night is in: )\", conf_interval)"
   ]
  },
  {
   "cell_type": "markdown",
   "id": "111df1f3-94ee-4584-8a3a-01de78f513d7",
   "metadata": {},
   "source": [
    "## Visualize the confidence intervals\n",
    "1. A line for interval with a point for the sample mean\n",
    "1. A bar for the sample mean and error lines for the interval"
   ]
  },
  {
   "cell_type": "code",
   "execution_count": 11,
   "id": "21fa76ea-f06e-4dbd-9e57-a277b0333f79",
   "metadata": {},
   "outputs": [
    {
     "data": {
      "image/png": "[encoded data removed]",
      "text/plain": [
       "<Figure size 432x288 with 1 Axes>"
      ]
     },
     "metadata": {
      "needs_background": "light"
     },
     "output_type": "display_data"
    }
   ],
   "source": [
    "import matplotlib.pyplot as plt\n",
    "\n",
    "plt.plot([1], [Xbar], color=\"blue\", marker=\"o\")\n",
    "plt.plot([1,1], conf_interval)\n",
    "plt.show()"
   ]
  },
  {
   "cell_type": "code",
   "execution_count": 14,
   "id": "5f4073f4-7b2f-4124-bb9c-7110219ebc31",
   "metadata": {},
   "outputs": [
    {
     "data": {
      "image/png": "[encoded data removed]",
      "text/plain": [
       "<Figure size 432x288 with 1 Axes>"
      ]
     },
     "metadata": {
      "needs_background": "light"
     },
     "output_type": "display_data"
    }
   ],
   "source": [
    "plt.figure()\n",
    "plt.bar([1],[Xbar], yerr=margin_of_error)\n",
    "plt.xlim([0.0,2.0])\n",
    "plt.ylim([0.0,12.0])\n",
    "plt.show()"
   ]
  },
  {
   "cell_type": "markdown",
   "id": "41a2882a-23db-46f8-b25b-459014643d34",
   "metadata": {},
   "source": [
    "## Work extra practice problem in todays notes\n"
   ]
  },
  {
   "cell_type": "markdown",
   "id": "5cc406da-ea2f-4b75-b711-b4a5f65ee8e3",
   "metadata": {},
   "source": [
    "### Step 4\n",
    "Decision rule- a statement of the conditions under which you reject or do not reject the null hypothesis\n",
    "Critical Value- The dividing point between regions of the t-dist when you reject or do not rehect the null hypothesis ( if +/- critical value then we reject Ho if t-val is inside the range\n",
    "\n",
    "alpha = 0.05\n",
    "df = 7\n",
    "two-tailed test\n"
   ]
  },
  {
   "cell_type": "markdown",
   "id": "f4c8e89d-77f8-47ba-a680-64a5c2ad6801",
   "metadata": {},
   "source": [
    "If t-computed value is larger than 2.365 or smaller than -2.365 then we reject null Ho, otherwise we do not reject it\n"
   ]
  },
  {
   "cell_type": "markdown",
   "id": "9cbd7ae6-a732-4bc1-9afc-bcda9c9e850e",
   "metadata": {},
   "source": [
    "## Step 5\n",
    "- compute the t-computed\n",
    "- apply the decision rule\n",
    "- calculate a p -value\n",
    "- write a conclusion in the context of the original problem\n"
   ]
  },
  {
   "cell_type": "markdown",
   "id": "332320d1-1dbb-4f3f-90da-ac04227147aa",
   "metadata": {},
   "source": [
    "###  our t-value ended up being -2.04\n",
    "Because of this, our t-computed ended up being between the respective critical values, thus we do not reject our null hypothesis\n"
   ]
  },
  {
   "cell_type": "code",
   "execution_count": null,
   "id": "6da6107c-6c03-48d3-a653-9c48f49cfa25",
   "metadata": {},
   "outputs": [],
   "source": []
  }
 ],
 "metadata": {
  "kernelspec": {
   "display_name": "Python 3",
   "language": "python",
   "name": "python3"
  },
  "language_info": {
   "codemirror_mode": {
    "name": "ipython",
    "version": 3
   },
   "file_extension": ".py",
   "mimetype": "text/x-python",
   "name": "python",
   "nbconvert_exporter": "python",
   "pygments_lexer": "ipython3",
   "version": "3.8.8"
  }
 },
 "nbformat": 4,
 "nbformat_minor": 5
}
