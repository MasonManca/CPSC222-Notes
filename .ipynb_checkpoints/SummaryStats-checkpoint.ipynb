{
 "cells": [
  {
   "cell_type": "code",
   "execution_count": 1,
   "id": "0d16ec6c-608e-4fdc-869d-b7466b711b10",
   "metadata": {},
   "outputs": [
    {
     "name": "stdout",
     "output_type": "stream",
     "text": [
      "hello!!#\n"
     ]
    }
   ],
   "source": [
    "import utils\n",
    "import importlib\n",
    "importlib.reload(utils)\n",
    "\n",
    "utils.say_hello()"
   ]
  },
  {
   "cell_type": "markdown",
   "id": "f23e145c-56d7-4114-a54e-426c79a1e36c",
   "metadata": {},
   "source": [
    "# Summary Stats\n",
    "Recall: We said that instances are sampled from the universe of instances\n",
    "\n",
    "In stats, we say that a dataset is a sample from a population\n",
    "(\"universe of instances\")\n",
    "\n",
    "* dataset = sample\n",
    "* univserse = population\n",
    "\n",
    "Example\n",
    "* Sample: The number of emails CPSC 222 students recieved in October 2021\n",
    "* Population: the number of emails ALL students nation-wide (world-wide) recieve in October 2021\n",
    "    * Expensive (time and money)\n",
    "\n",
    "More key stats terms\n",
    "* Parameter: any measurable characteristic of a population\n",
    "    * e.g. Popluation mean $\\mu$\n",
    "* Statistic: any measurable characteristic of a sample\n",
    "    * e.g. Sample mean $\\overline(x)$\n",
    "    \n",
    "* Descriptive stats: organizing, summarizing, presenting data in an informative way\n",
    "    * e.g. central tendency measures,charting...\n",
    "* Inferential stats: Making inferences that go beyond known data\n",
    "    * e.g. Infer something about a population based on a sample\n",
    "    * e.g. hypothesis testing, prediction with linear regression, machine learning...\n",
    "\n"
   ]
  },
  {
   "cell_type": "markdown",
   "id": "41e10de5-6684-42ec-a276-ba312338d250",
   "metadata": {},
   "source": [
    "## Summary Stats\n",
    "A summary stat summarizes data into a single value or  set of values\n",
    "\n",
    "Number of instances"
   ]
  },
  {
   "cell_type": "code",
   "execution_count": 2,
   "id": "133b89b9-cfce-4a74-b4dd-dd33c0299dee",
   "metadata": {},
   "outputs": [
    {
     "name": "stdout",
     "output_type": "stream",
     "text": [
      "0    8\n",
      "1    5\n",
      "2    4\n",
      "3    9\n",
      "4    8\n",
      "5    6\n",
      "dtype: int64\n",
      "number of instances:  6\n"
     ]
    }
   ],
   "source": [
    "import pandas as pd\n",
    "x = [8,5,4,9,8,6]\n",
    "y = [8,5,4,9,8,6,9]\n",
    "ser2 = pd.Series(y)\n",
    "ser = pd.Series(x)\n",
    "print(ser)\n",
    "print(\"number of instances: \", len(ser))\n"
   ]
  },
  {
   "cell_type": "markdown",
   "id": "8d0f3853-f79d-404d-beb5-bee72d9cade1",
   "metadata": {},
   "source": [
    "Min and Max\n",
    "* Doesn't make sense for nominal attributes"
   ]
  },
  {
   "cell_type": "code",
   "execution_count": 3,
   "id": "a20e2b00-1013-4901-b275-538bc2e2abe3",
   "metadata": {},
   "outputs": [
    {
     "name": "stdout",
     "output_type": "stream",
     "text": [
      "Min:  4 Max:  9\n"
     ]
    }
   ],
   "source": [
    "print(\"Min: \", ser.min(), \"Max: \", ser.max())"
   ]
  },
  {
   "cell_type": "markdown",
   "id": "c42940e3-91e5-4519-801b-9adfa4c3ece8",
   "metadata": {},
   "source": [
    "## Central Tendency \n",
    "Central tendency represents the middle value(s) of a data distribution\n",
    "\n",
    "Mid value: $\\frac{min + max}(2)$"
   ]
  },
  {
   "cell_type": "code",
   "execution_count": 4,
   "id": "8cb52f23-a893-45eb-b345-93cc871309b1",
   "metadata": {},
   "outputs": [
    {
     "name": "stdout",
     "output_type": "stream",
     "text": [
      "mid value:  6.5\n"
     ]
    }
   ],
   "source": [
    "print(\"mid value: \", (ser.min() + ser.max()) / 2)"
   ]
  },
  {
   "cell_type": "markdown",
   "id": "a9e1e778-fe3e-4a6b-8f9c-e293495be525",
   "metadata": {},
   "source": [
    "Arithmatic mean (average)\n",
    "* Sensitive to outliers\n",
    "* Should only be applied if you know your data is numeric\n"
   ]
  },
  {
   "cell_type": "code",
   "execution_count": 5,
   "id": "596c0166-2c9f-4fe8-abac-0ac6392f79d1",
   "metadata": {},
   "outputs": [
    {
     "name": "stdout",
     "output_type": "stream",
     "text": [
      "mean:  6.666666666666667\n"
     ]
    }
   ],
   "source": [
    "print(\"mean: \", ser.mean())\n"
   ]
  },
  {
   "cell_type": "markdown",
   "id": "b4e33b75-1762-40b1-8f4c-bf2ca40ff7a5",
   "metadata": {},
   "source": [
    "Median: middle value in a list of sorted values\n",
    "* If the number of instances is even, then take the midpoint between the middle two numbers\n"
   ]
  },
  {
   "cell_type": "code",
   "execution_count": 6,
   "id": "5b0ad812-a176-424b-b589-383367bb4ae9",
   "metadata": {},
   "outputs": [
    {
     "name": "stdout",
     "output_type": "stream",
     "text": [
      "2    4\n",
      "1    5\n",
      "5    6\n",
      "0    8\n",
      "4    8\n",
      "3    9\n",
      "dtype: int64\n",
      "Median:  7.0\n"
     ]
    }
   ],
   "source": [
    "print(ser.sort_values())\n",
    "print(\"Median: \", ser.median())"
   ]
  },
  {
   "cell_type": "markdown",
   "id": "7d937562-d483-4c11-8f33-893e7f6f520a",
   "metadata": {},
   "source": [
    "Mode: The most frequently occuring value(s)\n",
    "    "
   ]
  },
  {
   "cell_type": "code",
   "execution_count": 7,
   "id": "45dc792e-b9de-4099-94c3-69d26191fd5c",
   "metadata": {},
   "outputs": [
    {
     "name": "stdout",
     "output_type": "stream",
     "text": [
      "0    8\n",
      "dtype: int64\n"
     ]
    }
   ],
   "source": [
    "print(ser.mode())"
   ]
  },
  {
   "cell_type": "markdown",
   "id": "3ed51e4c-6a02-4edf-b889-7b1ed5f1a2d6",
   "metadata": {},
   "source": [
    "## Data Dispersion (Spread)\n",
    "Range: max - min"
   ]
  },
  {
   "cell_type": "code",
   "execution_count": 8,
   "id": "4dfe6423-d05f-4773-8c96-ac481e87f96f",
   "metadata": {},
   "outputs": [
    {
     "name": "stdout",
     "output_type": "stream",
     "text": [
      "range:  5\n"
     ]
    }
   ],
   "source": [
    "print(\"range: \", ser.max() - ser.min())"
   ]
  },
  {
   "cell_type": "markdown",
   "id": "e190c572-a414-4c14-a00c-6baf802532b0",
   "metadata": {},
   "source": [
    "Quantiles: Roughly equal sized partitions of the data in sorted order\n",
    "* 2 quantiles: 1 data point that divides the dataset into two halves ( The Median )\n",
    "* Quartiles: 3 data points that divide the dataset into quarters\n",
    "* Percentiles: 99 data points that divide the dataset into 100 groups\n",
    "    * 25th percentile: 1st quartile\n",
    "    * 50th percentile: 2nd quartile which is also the median\n",
    "    * 75th percentile: 3rd quartile\n",
    "    \n",
    "* IQR (interquartile range) 75th percentile - 25 percentile ( middle 50 percent of data)\n",
    "\n",
    "\n"
   ]
  },
  {
   "cell_type": "code",
   "execution_count": 9,
   "id": "f8252b86-9952-49ce-9fd0-bc542a2ab5c8",
   "metadata": {},
   "outputs": [
    {
     "name": "stdout",
     "output_type": "stream",
     "text": [
      "2    4\n",
      "1    5\n",
      "5    6\n",
      "0    8\n",
      "4    8\n",
      "3    9\n",
      "dtype: int64\n",
      "25th percentile:  0.25    5.25\n",
      "dtype: float64\n"
     ]
    }
   ],
   "source": [
    "print(ser.sort_values())\n",
    "print(\"25th percentile: \", ser.quantile([0.25]))"
   ]
  },
  {
   "cell_type": "code",
   "execution_count": 10,
   "id": "07573e7f-2d2c-404a-a362-6b3d9b4e7dfb",
   "metadata": {},
   "outputs": [
    {
     "name": "stdout",
     "output_type": "stream",
     "text": [
      "25th percentile: 6\n"
     ]
    }
   ],
   "source": [
    "sorted_ser2 = ser2.sort_values()\n",
    "index = round(0.25 * len(sorted_ser2))\n",
    "print(\"25th percentile:\", sorted_ser2.iloc[index])"
   ]
  },
  {
   "cell_type": "markdown",
   "id": "2c13e278-3b1b-433f-936e-ee27a9c21ca1",
   "metadata": {},
   "source": [
    "## Box Plots\n",
    "These are great visualizations of the spread of data\n",
    "* Non-parametric\n"
   ]
  },
  {
   "cell_type": "code",
   "execution_count": 11,
   "id": "cf47c6d5-7ef7-4648-a93e-4027d7c74064",
   "metadata": {},
   "outputs": [
    {
     "data": {
      "image/png": "[encoded data removed]",
      "text/plain": [
       "<Figure size 432x288 with 1 Axes>"
      ]
     },
     "metadata": {
      "needs_background": "light"
     },
     "output_type": "display_data"
    }
   ],
   "source": [
    "import matplotlib.pyplot as plt\n",
    "import numpy as np\n",
    "\n",
    "mean = 100\n",
    "stdev = 25\n",
    "num_samples = 1000\n",
    "x1 = np.random.normal(mean, stdev, num_samples)\n",
    "stdev = 5\n",
    "num_samples = 500\n",
    "x2 = np.random.normal(mean, stdev, num_samples)\n",
    "\n",
    "# the orange cerible line the box is the median\n",
    "# The box around the median is the IQR\n",
    "# The lines (whiskers) are the IQR +/- 1.5 * IQR\n",
    "# The criticles outside the whiskers are outliers\n",
    "\n",
    "plt.boxplot([x1, x2])\n",
    "plt.show()"
   ]
  },
  {
   "cell_type": "markdown",
   "id": "c7fa4586-3915-4150-ab7c-33901fb16fd2",
   "metadata": {},
   "source": [
    "Variance: spread from the mean\n",
    "* High variance: data is more spread out from the mean\n",
    "* Low varriance: Mean is more clustered\n",
    "\n",
    "Standard Deviation: The sqrt of variance \n",
    "* More commonly used... It is in the same units as the mean\n",
    "\n"
   ]
  },
  {
   "cell_type": "code",
   "execution_count": 12,
   "id": "662c16f3-ff24-44d9-b1aa-0f29aa1d06fc",
   "metadata": {},
   "outputs": [
    {
     "name": "stdout",
     "output_type": "stream",
     "text": [
      "variance:  3.866666666666667\n",
      "standard Deviation:  1.9663841605003503 1.9663841605003503\n"
     ]
    }
   ],
   "source": [
    "print(\"variance: \", ser.var())\n",
    "print(\"standard Deviation: \", ser.std(), np.sqrt(ser.var()))\n"
   ]
  },
  {
   "cell_type": "markdown",
   "id": "d7d37e6f-de71-459a-9936-7c2a501db666",
   "metadata": {},
   "source": [
    "# Histogram Demo"
   ]
  },
  {
   "cell_type": "code",
   "execution_count": 13,
   "id": "6501e578-413d-48bc-9f32-75d8f0f309e4",
   "metadata": {},
   "outputs": [
    {
     "data": {
      "image/png": "[encoded data removed]",
      "text/plain": [
       "<Figure size 432x288 with 1 Axes>"
      ]
     },
     "metadata": {
      "needs_background": "light"
     },
     "output_type": "display_data"
    }
   ],
   "source": [
    "\n",
    "mean = 100\n",
    "stdev = 25\n",
    "num_samples = 1000\n",
    "x1 = np.random.normal(mean, stdev, num_samples)\n",
    "stdev = 5\n",
    "num_samples = 500\n",
    "x2 = np.random.normal(mean, stdev, num_samples)\n",
    "\n",
    "plt.figure()\n",
    "plt.hist(x1, label = \"$\\sigma=25$\")\n",
    "plt.hist(x2, label = \"$\\sigma=5$\")\n",
    "plt.show()\n"
   ]
  },
  {
   "cell_type": "markdown",
   "id": "68eecc34-1549-4aa2-88d9-ba7f6d8a5f15",
   "metadata": {},
   "source": [
    "## Empirical Rule for Normal Distributions\n",
    "* If your data is normal:\n",
    "    * (about) 68 % is within the mean +/- 1 stdev\n",
    "    * (about) 95% is within mean +/- 2 stdev\n",
    "    * (about) 99.7% is within mean +/- 3 stdev\n",
    "    "
   ]
  },
  {
   "cell_type": "code",
   "execution_count": 14,
   "id": "2bee7f54-fdc6-4cd2-99c6-5d5188301b59",
   "metadata": {},
   "outputs": [
    {
     "ename": "SyntaxError",
     "evalue": "unexpected EOF while parsing (<ipython-input-14-7507ba0341e7>, line 11)",
     "output_type": "error",
     "traceback": [
      "\u001b[0;36m  File \u001b[0;32m\"<ipython-input-14-7507ba0341e7>\"\u001b[0;36m, line \u001b[0;32m11\u001b[0m\n\u001b[0;31m    \u001b[0m\n\u001b[0m    ^\u001b[0m\n\u001b[0;31mSyntaxError\u001b[0m\u001b[0;31m:\u001b[0m unexpected EOF while parsing\n"
     ]
    }
   ],
   "source": [
    "count_within_1stdev = 0\n",
    "count_within_2stdev = 0\n",
    "count_within_3stdev = 0\n",
    "\n",
    "mean_sampled = np.mean(x1)\n",
    "print(mean_sampled)\n",
    "std_sampled = np.std(x1)\n",
    "print(std_sampled)\n",
    "\n",
    "for value in x1:\n",
    "    if mean_sampled - std_sampled <= value <= mean_sampled + stdev_sampled:\n",
    "        count_within_1stdev += 1\n",
    "    if mean_sampled - std_sampled <= value <= mean_sampled + stdev_sampled:\n",
    "        count_within_1stdev += 1\n",
    "    if mean_sampled - std_sampled <= value <= mean_sampled + stdev_sampled:\n",
    "        count_within_1stdev += 1\n",
    "        \n",
    "\n",
    "print(\"Within 1 stdev:\", count_within_1stdev / num_samples)"
   ]
  },
  {
   "cell_type": "code",
   "execution_count": null,
   "id": "0698d2e1-dc80-474c-8062-733103fa96ac",
   "metadata": {},
   "outputs": [],
   "source": []
  },
  {
   "cell_type": "code",
   "execution_count": null,
   "id": "daba68b9-1973-4603-84d7-6b54bf678f42",
   "metadata": {},
   "outputs": [],
   "source": []
  }
 ],
 "metadata": {
  "kernelspec": {
   "display_name": "Python 3",
   "language": "python",
   "name": "python3"
  },
  "language_info": {
   "codemirror_mode": {
    "name": "ipython",
    "version": 3
   },
   "file_extension": ".py",
   "mimetype": "text/x-python",
   "name": "python",
   "nbconvert_exporter": "python",
   "pygments_lexer": "ipython3",
   "version": "3.8.8"
  }
 },
 "nbformat": 4,
 "nbformat_minor": 5
}
