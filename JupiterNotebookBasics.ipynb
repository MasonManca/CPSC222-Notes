{
 "cells": [
  {
   "cell_type": "code",
   "execution_count": 2,
   "id": "f7a89662-2164-41bf-bf1a-696196bfe1b7",
   "metadata": {},
   "outputs": [],
   "source": [
    "import pandas as pd\n"
   ]
  },
  {
   "cell_type": "code",
   "execution_count": null,
   "id": "2c1e13eb-b692-4088-b531-eaf209080bd5",
   "metadata": {},
   "outputs": [],
   "source": []
  },
  {
   "cell_type": "markdown",
   "id": "250fcde2-2e02-4ea4-85a9-306a4eb954f4",
   "metadata": {},
   "source": [
    "Jupyer Notebook: a list of interleaved code and markdown cells that collectively tell a data science story.\n"
   ]
  },
  {
   "cell_type": "markdown",
   "id": "94cfab23-fe1b-4573-b1ce-0a38eeb488c9",
   "metadata": {},
   "source": [
    "# This is a level 1 Header\n",
    "## This is a level 2 Header\n",
    "### This is a level 3 Header\n",
    "#### This is a level 4 Header\n",
    "##### This is a level 5 Header\n",
    "###### This is a level 6 Header"
   ]
  },
  {
   "cell_type": "markdown",
   "id": "a579e03e-e4a3-4c94-af98-3d88a1608dbd",
   "metadata": {},
   "source": [
    "This is paragraph text\n",
    "\n",
    "This is the next line\n",
    "\n",
    "This is a hard break... note the extra line between the text\n",
    "\n",
    "As opposed to a soft break.  \n",
    "This is the next line... there are two spaces after the \"Break\"."
   ]
  },
  {
   "cell_type": "markdown",
   "id": "3cf9961d-898b-4582-99b1-7b4e14d048c5",
   "metadata": {},
   "source": [
    "## Formatting \n",
    "We can **bold** *italicize* and ~~strikethrough~~\n",
    "\n",
    ">This is a block quote.  \n",
    "It can span multiple lines\n",
    "\n",
    "Code formatting... inline or block.  \n",
    "e.g. `import pandas as pd`\n",
    "\n",
    "```\n",
    "This is a multiple line comment block\n",
    "for i in range (5):\n",
    "    print(i)\n",
    "```\n",
    "syntax highlighting:\n",
    "``` python\n",
    "This is a multiple line comment block\n",
    "for i in range (5):\n",
    "    print(i)\n",
    "```"
   ]
  },
  {
   "cell_type": "code",
   "execution_count": null,
   "id": "9b14cfc0-e6fd-4fbe-813e-98313e62c468",
   "metadata": {},
   "outputs": [],
   "source": []
  },
  {
   "cell_type": "code",
   "execution_count": null,
   "id": "c02b24fe-a3d5-43e2-aeb4-362f118b2d43",
   "metadata": {},
   "outputs": [],
   "source": []
  },
  {
   "cell_type": "markdown",
   "id": "efee2e96-aeba-4724-8886-ad7e9b158e75",
   "metadata": {},
   "source": [
    "## Lists:\n",
    "Unordered lists:\n",
    "\n",
    "*first item  \n",
    "*second item  \n",
    "*third item  \n",
    "\n",
    "Ordered Lists:\n",
    "\n",
    "1. First item  \n",
    "1. Second item  \n",
    "1. Third item   \n",
    "\n",
    "We can mix and nest the list types:\n",
    "1. Item 1\n",
    "1. Item 2\n",
    "    1. item 2a\n",
    "    1. item 2b\n",
    "1. item 3\n",
    "    * item \n",
    "    * item "
   ]
  },
  {
   "cell_type": "markdown",
   "id": "f3d5b21f-94ba-41c5-8846-460add61aa2d",
   "metadata": {},
   "source": [
    "## Links \n",
    "I recommend you check out this markdown tutorial:\n",
    "https://www.markdowntutorial.com/\n",
    "\n",
    "Another way: check out [this markdown tutorial](https://www.markdowntutorial.com/)\n",
    "\n",
    "## Images\n",
    "`![alt text](path or url to the image)`\n",
    "\n",
    "![Cheese man](https://i5.walmartimages.com/asr/0079d44c-b81c-44a8-840a-274a8e51d6e3_1.35ae5856fb48ba778e15739363a031c8.jpeg?odnHeight=612&odnWidth=612&odnBg=FFFFFF)\n",
    "\n",
    "How to resize the image:\n",
    "<img src=\"https://i5.walmartimages.com/asr/0079d44c-b81c-44a8-840a-274a8e51d6e3_1.35ae5856fb48ba778e15739363a031c8.jpeg?odnHeight=612&odnWidth=612&odnBg=FFFFFF\" width = \"400\"/>\n"
   ]
  },
  {
   "cell_type": "markdown",
   "id": "13c78f6e-0250-40d3-8e5a-a5bb03b33e38",
   "metadata": {},
   "source": [
    "## Tables\n",
    "|CarName|ModelYear|MSRP|\n",
    "|-|-|-|\n",
    "|ford pinto|75|1111|\n",
    "|toyota corola|76|2222|\n"
   ]
  },
  {
   "cell_type": "markdown",
   "id": "b4f7b61b-bb58-4b20-8c37-9e1cec7f87ef",
   "metadata": {},
   "source": [
    "## Latex (Math Mode)\n",
    "'''\n",
    "Latex is a mathematical/document typesetting language/framework (super powerful!!)\n",
    "We are going to use Latex for its math mode (rendering nicely typset math expressions/equations)\n",
    "\n",
    "Use dollar signs to enter/exit math mode\n",
    "'''\n",
    "Inline math mode: $y = mx + b$\n",
    "Block/centered math mode: $$y = mx + b$$\n",
    "Subscripts: $x_i$\n",
    "Super scripts: $x^i$\n",
    "symbols over characters: $\\overline(x+1)$ $\\widehat(x+1)$\n",
    "special symbols: $\\pi \\mu \\sigma \\Sigma \\forall$\n",
    "    \n",
    "Square roots: $\\sqrt{x+y+z}$\n",
    "Summation: $\\sum_{i=1}^{n} i \\times x_i$\n",
    "Fractions: $\\frac{1}{2}$"
   ]
  },
  {
   "cell_type": "code",
   "execution_count": null,
   "id": "a12495a7-928d-48b9-a700-5b31dfb1ecb5",
   "metadata": {},
   "outputs": [],
   "source": [
    "\n"
   ]
  },
  {
   "cell_type": "code",
   "execution_count": null,
   "id": "a7cb8e49-7038-4b34-b7f0-f3ea5eff3a11",
   "metadata": {},
   "outputs": [],
   "source": []
  },
  {
   "cell_type": "code",
   "execution_count": null,
   "id": "3fca1848-9574-4b8a-8fa0-f896c52c8c38",
   "metadata": {},
   "outputs": [],
   "source": []
  },
  {
   "cell_type": "code",
   "execution_count": null,
   "id": "367086a7-83f5-4a95-8590-7c747b70a4f8",
   "metadata": {},
   "outputs": [],
   "source": []
  },
  {
   "cell_type": "code",
   "execution_count": null,
   "id": "8063aed2-3bb7-4289-919b-76a07c429d60",
   "metadata": {},
   "outputs": [],
   "source": []
  },
  {
   "cell_type": "code",
   "execution_count": null,
   "id": "cd3f753e-c181-43c1-b877-e12a04f55207",
   "metadata": {},
   "outputs": [],
   "source": []
  },
  {
   "cell_type": "code",
   "execution_count": null,
   "id": "208c1695-d465-4315-8c06-b8d339120760",
   "metadata": {},
   "outputs": [],
   "source": []
  },
  {
   "cell_type": "code",
   "execution_count": null,
   "id": "1b5275ce-4f7a-4f75-80dc-5e9b32bbd2cb",
   "metadata": {},
   "outputs": [],
   "source": []
  },
  {
   "cell_type": "code",
   "execution_count": null,
   "id": "f514d85c-2f12-460f-8722-9b222cf631b7",
   "metadata": {},
   "outputs": [],
   "source": []
  }
 ],
 "metadata": {
  "kernelspec": {
   "display_name": "Python 3",
   "language": "python",
   "name": "python3"
  },
  "language_info": {
   "codemirror_mode": {
    "name": "ipython",
    "version": 3
   },
   "file_extension": ".py",
   "mimetype": "text/x-python",
   "name": "python",
   "nbconvert_exporter": "python",
   "pygments_lexer": "ipython3",
   "version": "3.8.8"
  }
 },
 "nbformat": 4,
 "nbformat_minor": 5
}
